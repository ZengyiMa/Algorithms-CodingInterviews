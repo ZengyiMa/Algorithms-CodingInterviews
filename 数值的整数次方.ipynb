{
 "cells": [
  {
   "cell_type": "markdown",
   "metadata": {},
   "source": [
    "# 题目描述\n",
    "给定一个double类型的浮点数base和int类型的整数exponent。求base的exponent次方。"
   ]
  },
  {
   "cell_type": "markdown",
   "metadata": {},
   "source": [
    "# 解题思路\n",
    "一个数的N次方，等于N/2次方的平方，依次递归，如果最后是奇数，那么需要乘以一个base的数值"
   ]
  },
  {
   "cell_type": "code",
   "execution_count": 9,
   "metadata": {},
   "outputs": [],
   "source": [
    "def pow(base, exponent):\n",
    "    if exponent == 0:\n",
    "        return 1\n",
    "    if exponent == 1:\n",
    "        return base\n",
    "    result = pow(base, exponent >> 1)\n",
    "    result *= result\n",
    "    if exponent % 2 == 1:\n",
    "        #奇数\n",
    "        result *= base\n",
    "    return result"
   ]
  },
  {
   "cell_type": "code",
   "execution_count": 10,
   "metadata": {},
   "outputs": [
    {
     "data": {
      "text/plain": [
       "64"
      ]
     },
     "execution_count": 10,
     "metadata": {},
     "output_type": "execute_result"
    }
   ],
   "source": [
    "pow(4, 3)"
   ]
  }
 ],
 "metadata": {
  "kernelspec": {
   "display_name": "Python 3",
   "language": "python",
   "name": "python3"
  },
  "language_info": {
   "codemirror_mode": {
    "name": "ipython",
    "version": 3
   },
   "file_extension": ".py",
   "mimetype": "text/x-python",
   "name": "python",
   "nbconvert_exporter": "python",
   "pygments_lexer": "ipython3",
   "version": "3.7.1"
  }
 },
 "nbformat": 4,
 "nbformat_minor": 2
}
