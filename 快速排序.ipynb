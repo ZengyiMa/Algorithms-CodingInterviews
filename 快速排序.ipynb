{
 "cells": [
  {
   "cell_type": "markdown",
   "metadata": {},
   "source": [
    "# 题目描述\n",
    "实现快速排序"
   ]
  },
  {
   "cell_type": "code",
   "execution_count": 9,
   "metadata": {},
   "outputs": [],
   "source": [
    "list = [5,4,3,2,1]"
   ]
  },
  {
   "cell_type": "markdown",
   "metadata": {},
   "source": [
    "# 解题思路\n",
    "填坑递归法\n",
    "1．i =L; j = R; 将基准数挖出形成第一个坑a[i]。\n",
    "\n",
    "2．j--由后向前找比它小的数，找到后挖出此数填前一个坑a[i]中。\n",
    "\n",
    "3．i++由前向后找比它大的数，找到后也挖出此数填到前一个坑a[j]中。\n",
    "\n",
    "4．再重复执行2，3二步，直到i==j，将基准数填入a[i]中。"
   ]
  },
  {
   "cell_type": "code",
   "execution_count": 10,
   "metadata": {},
   "outputs": [],
   "source": [
    "def quickSort(list, l, r):\n",
    "    if l < r:\n",
    "        i = l\n",
    "        j = r\n",
    "        x = list[i]\n",
    "        while i < j:\n",
    "            while i < j and x < list[j]:\n",
    "                j -= 1\n",
    "            if i < j:\n",
    "                list[i] = list[j]\n",
    "                i += 1\n",
    "            while i < j and x > list[i]:\n",
    "                i += 1\n",
    "            if i < j:\n",
    "                list[j] = list[i]\n",
    "                j -= 1\n",
    "        list[i] = x\n",
    "        quickSort(list, l, i - 1)\n",
    "        quickSort(list, i + 1, r)"
   ]
  },
  {
   "cell_type": "code",
   "execution_count": 11,
   "metadata": {},
   "outputs": [
    {
     "data": {
      "text/plain": [
       "[1, 2, 3, 4, 5]"
      ]
     },
     "execution_count": 11,
     "metadata": {},
     "output_type": "execute_result"
    }
   ],
   "source": [
    "quickSort(list, 0, len(list) - 1)\n",
    "list"
   ]
  }
 ],
 "metadata": {
  "kernelspec": {
   "display_name": "Python 3",
   "language": "python",
   "name": "python3"
  },
  "language_info": {
   "codemirror_mode": {
    "name": "ipython",
    "version": 3
   },
   "file_extension": ".py",
   "mimetype": "text/x-python",
   "name": "python",
   "nbconvert_exporter": "python",
   "pygments_lexer": "ipython3",
   "version": "3.7.1"
  }
 },
 "nbformat": 4,
 "nbformat_minor": 2
}
