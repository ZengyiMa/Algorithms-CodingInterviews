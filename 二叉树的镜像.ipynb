{
  "nbformat": 4,
  "nbformat_minor": 0,
  "metadata": {
    "colab": {
      "name": "二叉树的镜像.ipynb",
      "provenance": []
    },
    "kernelspec": {
      "name": "python2",
      "display_name": "Python 2"
    }
  },
  "cells": [
    {
      "cell_type": "markdown",
      "metadata": {
        "id": "2EdTqXGH9vUh",
        "colab_type": "text"
      },
      "source": [
        "# 题目描述\n",
        "操作给定的二叉树，将其变换为源二叉树的镜像。\n",
        "\n",
        "# 思路\n",
        "1、遍历二叉树，无论前序，中序，后序都是可以的\n",
        "\n",
        "2、在每个节点的时候转换2个左右子树即可\n",
        "\n"
      ]
    },
    {
      "cell_type": "code",
      "metadata": {
        "id": "ZeKxp9gg-LEJ",
        "colab_type": "code",
        "colab": {}
      },
      "source": [
        "# -*- coding:utf-8 -*-\n",
        "# class TreeNode:\n",
        "#     def __init__(self, x):\n",
        "#         self.val = x\n",
        "#         self.left = None\n",
        "#         self.right = None\n",
        "class Solution:\n",
        "    # 返回镜像树的根节点\n",
        "    def Mirror(self, root):\n",
        "        # write code here\n",
        "        self.travelTree(root)\n",
        "        return root\n",
        "        \n",
        "    def travelTree(self, root):\n",
        "        if root == None:\n",
        "            return\n",
        "        self.mirrorNode(root)\n",
        "        self.travelTree(root.left)\n",
        "        self.travelTree(root.right)\n",
        "        \n",
        "    def mirrorNode(self, root):\n",
        "        if root == None:\n",
        "            return\n",
        "        temp = root.left\n",
        "        root.left = root.right\n",
        "        root.right = temp\n",
        "        \n",
        "        "
      ],
      "execution_count": 0,
      "outputs": []
    }
  ]
}