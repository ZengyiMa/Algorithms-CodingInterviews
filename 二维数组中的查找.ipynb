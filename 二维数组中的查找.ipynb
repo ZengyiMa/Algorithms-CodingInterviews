{
 "cells": [
  {
   "cell_type": "markdown",
   "metadata": {
    "slideshow": {
     "slide_type": "-"
    }
   },
   "source": [
    "# 题目描述\n",
    "在一个二维数组中，每一行都按照从左到右递增的顺序排序，每一列都按照从上到下递增的顺序排序。请完成一个函数，输入这样的一个二维数组和一个整数，判断数组中是否含有该整数。"
   ]
  },
  {
   "cell_type": "code",
   "execution_count": 3,
   "metadata": {},
   "outputs": [],
   "source": [
    "list = [\n",
    "    [1,2,8,9],\n",
    "    [2,4,9,12],\n",
    "    [4,7,10,13],\n",
    "    [6,8,11,15]\n",
    "]"
   ]
  },
  {
   "cell_type": "markdown",
   "metadata": {},
   "source": [
    "# 解题思路\n",
    " 利用二维数组由上到下，由左到右递增的规律，\n",
    " 那么选取左下角或者右上角的元素a[i][j]与target进行比较，\n",
    " 当target大于元素a[i][j]时，那么target必定在元素a所在行的右边,\n",
    " 即j++；\n",
    " 当target大于元素a[i][j]时，那么target必定在元素a所在列的上边,\n",
    " 即i--；\n",
    " 时间复杂度m+n"
   ]
  },
  {
   "cell_type": "code",
   "execution_count": 4,
   "metadata": {},
   "outputs": [],
   "source": [
    "def find(list, column, row, number):\n",
    "    found = False\n",
    "    iColumn = column - 1\n",
    "    iRow = 0\n",
    "    while iColumn >= 0 and iRow < row:\n",
    "        if list[iRow][iColumn] < number:\n",
    "            iRow += 1\n",
    "        elif list[iRow][iColumn] > number:\n",
    "            iColumn -= 1\n",
    "        elif list[iRow][iColumn] == number:\n",
    "            found = True\n",
    "            break\n",
    "    return found"
   ]
  },
  {
   "cell_type": "markdown",
   "metadata": {},
   "source": [
    "# 验证"
   ]
  },
  {
   "cell_type": "code",
   "execution_count": 5,
   "metadata": {},
   "outputs": [
    {
     "data": {
      "text/plain": [
       "True"
      ]
     },
     "execution_count": 5,
     "metadata": {},
     "output_type": "execute_result"
    }
   ],
   "source": [
    "find(list,4,4,7)"
   ]
  }
 ],
 "metadata": {
  "kernelspec": {
   "display_name": "Python 2",
   "language": "python",
   "name": "python2"
  },
  "language_info": {
   "codemirror_mode": {
    "name": "ipython",
    "version": 2
   },
   "file_extension": ".py",
   "mimetype": "text/x-python",
   "name": "python",
   "nbconvert_exporter": "python",
   "pygments_lexer": "ipython2",
   "version": "2.7.15"
  }
 },
 "nbformat": 4,
 "nbformat_minor": 2
}
