{
  "nbformat": 4,
  "nbformat_minor": 0,
  "metadata": {
    "colab": {
      "name": "合并两个排序的链表.ipynb",
      "provenance": [],
      "include_colab_link": true
    },
    "kernelspec": {
      "name": "python2",
      "display_name": "Python 2"
    }
  },
  "cells": [
    {
      "cell_type": "markdown",
      "metadata": {
        "id": "view-in-github",
        "colab_type": "text"
      },
      "source": [
        "<a href=\"https://colab.research.google.com/github/ZengyiMa/Algorithms-CodingInterviews/blob/master/%E5%90%88%E5%B9%B6%E4%B8%A4%E4%B8%AA%E6%8E%92%E5%BA%8F%E7%9A%84%E9%93%BE%E8%A1%A8.ipynb\" target=\"_parent\"><img src=\"https://colab.research.google.com/assets/colab-badge.svg\" alt=\"Open In Colab\"/></a>"
      ]
    },
    {
      "cell_type": "markdown",
      "metadata": {
        "id": "TGtjcK3Ophd4",
        "colab_type": "text"
      },
      "source": [
        "#  合并两个排序的链表\n",
        "\n",
        "# 解题思路\n",
        "查看代码\n"
      ]
    },
    {
      "cell_type": "code",
      "metadata": {
        "id": "2Ha10bs8pem_",
        "colab_type": "code",
        "colab": {}
      },
      "source": [
        "# -*- coding:utf-8 -*-\n",
        "# class ListNode:\n",
        "#     def __init__(self, x):\n",
        "#         self.val = x\n",
        "#         self.next = None\n",
        "class Solution:\n",
        "    # 返回合并后列表\n",
        "    def Merge(self, pHead1, pHead2):\n",
        "        # write code here\n",
        "        node1 = pHead1\n",
        "        node2 = pHead2\n",
        "        head = ListNode(0)\n",
        "        root = head\n",
        "        while node1 and node2:\n",
        "            if node1.val < node2.val:\n",
        "                head.next = node1\n",
        "                node1 = node1.next\n",
        "            else:\n",
        "                head.next = node2\n",
        "                node2 = node2.next\n",
        "            head = head.next\n",
        "        if node1 == None:\n",
        "            head.next = node2\n",
        "        elif node2 == None:\n",
        "            head.next = node1\n",
        "        return root.next;\n"
      ],
      "execution_count": 0,
      "outputs": []
    }
  ]
}