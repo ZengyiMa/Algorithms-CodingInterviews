{
  "nbformat": 4,
  "nbformat_minor": 0,
  "metadata": {
    "colab": {
      "name": "包含min函数的栈.ipynb",
      "provenance": [],
      "include_colab_link": true
    },
    "kernelspec": {
      "name": "python2",
      "display_name": "Python 2"
    }
  },
  "cells": [
    {
      "cell_type": "markdown",
      "metadata": {
        "id": "view-in-github",
        "colab_type": "text"
      },
      "source": [
        "<a href=\"https://colab.research.google.com/github/ZengyiMa/Algorithms-CodingInterviews/blob/master/%E5%8C%85%E5%90%ABmin%E5%87%BD%E6%95%B0%E7%9A%84%E6%A0%88.ipynb\" target=\"_parent\"><img src=\"https://colab.research.google.com/assets/colab-badge.svg\" alt=\"Open In Colab\"/></a>"
      ]
    },
    {
      "cell_type": "markdown",
      "metadata": {
        "id": "mKYv0nbOpkFt",
        "colab_type": "text"
      },
      "source": [
        "# 题目描述\n",
        "定义栈的数据结构，请在该类型中实现一个能够得到栈中所含最小元素的min函数（时间复杂度应为O（1））。\n",
        "\n",
        "# 解题思路\n",
        "利用一个辅助栈来存放最小值\n",
        "\n",
        "每入栈一次，就与辅助栈顶比较大小，如果小就入栈，如果大就入栈当前的辅助栈顶\n",
        "\n",
        "当出栈时，辅助栈也要出栈\n",
        "\n",
        "这种做法可以保证辅助栈顶一定都当前栈的最小值\n",
        "\n",
        "# 代码"
      ]
    },
    {
      "cell_type": "code",
      "metadata": {
        "id": "30upZBRkpfRS",
        "colab_type": "code",
        "colab": {}
      },
      "source": [
        "# -*- coding:utf-8 -*-\n",
        "class Solution:\n",
        "    def __init__(self):\n",
        "        self.stack = []\n",
        "        self.minStack = []\n",
        "    def push(self, node):\n",
        "        # write code here\n",
        "        if len(self.stack) == 0:\n",
        "            self.stack.append(node)\n",
        "            self.minStack.append(node)\n",
        "            return\n",
        "        min = self.min()\n",
        "        if min > node:\n",
        "            self.minStack.append(node)\n",
        "        else:\n",
        "            self.minStack.append(min)\n",
        "        self.stack.append(node)\n",
        "        \n",
        "    def pop(self):\n",
        "        # write code here\n",
        "        self.minStack.pop()\n",
        "        return self.stack.pop()\n",
        "    def top(self):\n",
        "        # write code here\n",
        "        return self.stack[-1]\n",
        "    def min(self):\n",
        "        # write code here\n",
        "        return self.minStack[-1]"
      ],
      "execution_count": 0,
      "outputs": []
    }
  ]
}