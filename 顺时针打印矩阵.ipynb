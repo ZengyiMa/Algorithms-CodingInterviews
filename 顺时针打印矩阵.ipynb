{
  "nbformat": 4,
  "nbformat_minor": 0,
  "metadata": {
    "colab": {
      "name": "顺时针打印矩阵.ipynb",
      "provenance": [],
      "collapsed_sections": []
    },
    "kernelspec": {
      "name": "python2",
      "display_name": "Python 2"
    }
  },
  "cells": [
    {
      "cell_type": "markdown",
      "metadata": {
        "id": "9MCia5z2nfhc",
        "colab_type": "text"
      },
      "source": [
        "# 题目描述\n",
        "输入一个矩阵，按照从外向里以顺时针的顺序依次打印出每一个数字，例如，如果输入如下4 X 4矩阵： 1 2 3 4 5 6 7 8 9 10 11 12 13 14 15 16 则依次打印出数字1,2,3,4,8,12,16,15,14,13,9,5,6,7,11,10.\n",
        "\n",
        "# 思路\n",
        "根据题目描述，依次从外围往内去遍历循环即可"
      ]
    },
    {
      "cell_type": "code",
      "metadata": {
        "id": "Fur1oY0Gnj6B",
        "colab_type": "code",
        "colab": {}
      },
      "source": [
        "# -*- coding:utf-8 -*-\n",
        "class Solution:\n",
        "    # matrix类型为二维列表，需要返回列表\n",
        "    def printMatrix(self, matrix):\n",
        "        # write code here\n",
        "        left = 0\n",
        "        right = len(matrix[0]) - 1\n",
        "        top = 0\n",
        "        bottom = len(matrix) - 1\n",
        "        result = []\n",
        "        if right == -1:\n",
        "            return result\n",
        "        while left <= right and top <= bottom:\n",
        "            # top\n",
        "            for i in range(left, right + 1):\n",
        "                result.append(matrix[top][i])\n",
        "            # right\n",
        "            for i in range(top + 1, bottom + 1):\n",
        "                result.append(matrix[i][right])\n",
        "            # bottom\n",
        "            if top != bottom:\n",
        "                for i in range(right - 1, left - 1, -1):\n",
        "                    result.append(matrix[bottom][i])\n",
        "            # left\n",
        "            if left != right:\n",
        "                for i in range(bottom - 1, top, -1):\n",
        "                    result.append(matrix[i][left])\n",
        "            left += 1\n",
        "            right -= 1\n",
        "            top += 1\n",
        "            bottom -= 1\n",
        "        return result"
      ],
      "execution_count": 0,
      "outputs": []
    }
  ]
}