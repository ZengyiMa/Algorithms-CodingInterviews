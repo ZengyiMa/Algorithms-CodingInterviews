{
  "nbformat": 4,
  "nbformat_minor": 0,
  "metadata": {
    "colab": {
      "name": "链表中倒数第k个结点.ipynb",
      "provenance": [],
      "include_colab_link": true
    },
    "kernelspec": {
      "name": "python2",
      "display_name": "Python 2"
    }
  },
  "cells": [
    {
      "cell_type": "markdown",
      "metadata": {
        "id": "view-in-github",
        "colab_type": "text"
      },
      "source": [
        "<a href=\"https://colab.research.google.com/github/ZengyiMa/Algorithms-CodingInterviews/blob/master/%E9%93%BE%E8%A1%A8%E4%B8%AD%E5%80%92%E6%95%B0%E7%AC%ACk%E4%B8%AA%E7%BB%93%E7%82%B9.ipynb\" target=\"_parent\"><img src=\"https://colab.research.google.com/assets/colab-badge.svg\" alt=\"Open In Colab\"/></a>"
      ]
    },
    {
      "cell_type": "markdown",
      "metadata": {
        "id": "bRdsB31Ub08a",
        "colab_type": "text"
      },
      "source": [
        "# 题目描述\n",
        "\n",
        "输入一个链表，输出该链表中倒数第k个结点。\n",
        "\n",
        "# 思路\n",
        "使用一个数组，遍历一遍链表，将列表节点放入数组之中，然后再获取末尾指定的节点数。"
      ]
    },
    {
      "cell_type": "code",
      "metadata": {
        "id": "63S4L9uCbdwC",
        "colab_type": "code",
        "colab": {}
      },
      "source": [
        "# class ListNode:\n",
        "#     def __init__(self, x):\n",
        "#         self.val = x\n",
        "#         self.next = None\n",
        "\n",
        "class Solution:\n",
        "    def FindKthToTail(self, head, k):\n",
        "      if k == 0:\n",
        "          return None\n",
        "      node = head\n",
        "      linkList = []\n",
        "      while node != None:\n",
        "          linkList.append(node)\n",
        "          node = node.next\n",
        "      if len(linkList) >= k:\n",
        "          return linkList[-k]\n",
        "      else:\n",
        "          return None"
      ],
      "execution_count": 0,
      "outputs": []
    }
  ]
}