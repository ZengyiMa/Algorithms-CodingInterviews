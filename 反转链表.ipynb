{
  "nbformat": 4,
  "nbformat_minor": 0,
  "metadata": {
    "colab": {
      "name": "反转链表.ipynb",
      "provenance": [],
      "include_colab_link": true
    },
    "kernelspec": {
      "name": "python2",
      "display_name": "Python 2"
    }
  },
  "cells": [
    {
      "cell_type": "markdown",
      "metadata": {
        "id": "view-in-github",
        "colab_type": "text"
      },
      "source": [
        "<a href=\"https://colab.research.google.com/github/ZengyiMa/Algorithms-CodingInterviews/blob/master/%E5%8F%8D%E8%BD%AC%E9%93%BE%E8%A1%A8.ipynb\" target=\"_parent\"><img src=\"https://colab.research.google.com/assets/colab-badge.svg\" alt=\"Open In Colab\"/></a>"
      ]
    },
    {
      "cell_type": "markdown",
      "metadata": {
        "id": "ODWGA0kPi4q0",
        "colab_type": "text"
      },
      "source": [
        "# 题目描述\n",
        "输入一个链表，反转链表后，输出新链表的表头。\n",
        "\n",
        "# 解题思路\n",
        "1. 使用3个指针来表示当前的节点（cur），下一个节点(next)，和前一个节点(pre)。按顺序给其设置相应的节点对象。\n",
        "2. 循环遍历设置节点状态，首先保存next节点(`next = cur.next`)，因为 next的值在后文会被修改所以我们需要优先存储\n",
        "3. 将 cur 的 next 设置为 pre，达到翻转的目的。\n",
        "4. 将cur设置为 pre，将 cur 设置为 next，往前请进一个节点。\n",
        "5. 最后请不要忘记将根目录节点的next设置为空，否则会引发循环\n",
        "6. 返回翻转之后的根节点即可。"
      ]
    },
    {
      "cell_type": "code",
      "metadata": {
        "id": "_WMCMBF1i0JH",
        "colab_type": "code",
        "colab": {}
      },
      "source": [
        "# -*- coding:utf-8 -*-\n",
        "# class ListNode:\n",
        "#     def __init__(self, x):\n",
        "#         self.val = x\n",
        "#         self.next = None\n",
        "class Solution:\n",
        "    # 返回ListNode\n",
        "    def ReverseList(self, pHead):\n",
        "        # write code here\n",
        "        if pHead == None or pHead.next == None:\n",
        "            return pHead\n",
        "        pre = pHead\n",
        "        cur = pHead.next\n",
        "        next = cur.next\n",
        "        while cur != None:\n",
        "            next = cur.next\n",
        "            cur.next = pre\n",
        "            pre = cur\n",
        "            cur = next\n",
        "        pHead.next = None \n",
        "        return pre"
      ],
      "execution_count": 0,
      "outputs": []
    }
  ]
}